{
  "nbformat": 4,
  "nbformat_minor": 0,
  "metadata": {
    "colab": {
      "provenance": [],
      "authorship_tag": "ABX9TyOpoz7iVU160wpcoKrYwDjC",
      "include_colab_link": true
    },
    "kernelspec": {
      "display_name": "Python 3",
      "name": "python3"
    }
  },
  "cells": [
    {
      "cell_type": "markdown",
      "metadata": {
        "id": "view-in-github",
        "colab_type": "text"
      },
      "source": [
        "<a href=\"https://colab.research.google.com/github/lsgotti/TCC_Python/blob/main/Preprocessamento.ipynb\" target=\"_parent\"><img src=\"https://colab.research.google.com/assets/colab-badge.svg\" alt=\"Open In Colab\"/></a>"
      ]
    },
    {
      "cell_type": "code",
      "metadata": {
        "id": "Gc7kwhHo-VJ7",
        "colab": {
          "base_uri": "https://localhost:8080/"
        },
        "outputId": "d56502ea-14a4-4efe-953b-b29e23e76b14"
      },
      "source": [
        "#carrega imports e instala o scikit-multiflow\n",
        "!pip install -U scikit-multiflow\n",
        "# Imports\n",
        "from skmultiflow.data import FileStream\n",
        "from skmultiflow.data import SEAGenerator\n",
        "from skmultiflow.evaluation import EvaluatePrequential\n",
        "from skmultiflow.bayes import NaiveBayes\n",
        "from skmultiflow.trees import HoeffdingTreeClassifier\n",
        "from skmultiflow.trees import HoeffdingAdaptiveTreeClassifier\n",
        "from skmultiflow.trees import ExtremelyFastDecisionTreeClassifier\n",
        "from skmultiflow.meta import LearnPPNSEClassifier\n",
        "from skmultiflow.drift_detection import ADWIN\n",
        "from skmultiflow.meta import OzaBaggingClassifier\n",
        "\n",
        "from sklearn.linear_model import SGDClassifier\n",
        "\n",
        "import numpy as np\n",
        "import matplotlib.pyplot as plt\n",
        "from matplotlib import gridspec\n",
        "\n",
        "#carrega imports\n",
        "import numpy as np\n",
        "from sklearn.model_selection import train_test_split\n",
        "from sklearn import svm\n",
        "import pandas as pd\n",
        "from sklearn import datasets, linear_model\n",
        "from matplotlib import pyplot as plt\n",
        "from sklearn.neural_network import MLPClassifier\n",
        "from sklearn.model_selection import cross_val_score\n",
        "from sklearn.linear_model import LogisticRegression\n",
        "from sklearn.ensemble import RandomForestClassifier\n",
        "from sklearn.model_selection import cross_val_score\n",
        "from sklearn.model_selection import StratifiedKFold\n",
        "from sklearn.metrics import accuracy_score, f1_score, precision_score, recall_score, classification_report, confusion_matrix\n",
        "\n",
        "from google.colab import files\n",
        "\n",
        "import numpy as np\n",
        "from skmultiflow.data.file_stream import FileStream\n",
        "from skmultiflow.data.data_stream import DataStream\n",
        "from skmultiflow.trees import HoeffdingTreeClassifier\n",
        "from skmultiflow.evaluation import EvaluatePrequential\n",
        "import pandas as pd\n",
        "import io\n",
        "from google.colab import files\n",
        "from skmultiflow.trees import HoeffdingTree\n",
        "from datetime import datetime, date"
      ],
      "execution_count": null,
      "outputs": [
        {
          "output_type": "stream",
          "name": "stdout",
          "text": [
            "Looking in indexes: https://pypi.org/simple, https://us-python.pkg.dev/colab-wheels/public/simple/\n",
            "Collecting scikit-multiflow\n",
            "  Downloading scikit_multiflow-0.5.3-cp37-cp37m-manylinux2010_x86_64.whl (1.1 MB)\n",
            "\u001b[K     |████████████████████████████████| 1.1 MB 7.6 MB/s \n",
            "\u001b[?25hRequirement already satisfied: matplotlib>=2.0.0 in /usr/local/lib/python3.7/dist-packages (from scikit-multiflow) (3.2.2)\n",
            "Requirement already satisfied: sortedcontainers>=1.5.7 in /usr/local/lib/python3.7/dist-packages (from scikit-multiflow) (2.4.0)\n",
            "Requirement already satisfied: numpy>=1.14.0 in /usr/local/lib/python3.7/dist-packages (from scikit-multiflow) (1.21.6)\n",
            "Requirement already satisfied: pandas>=0.25.3 in /usr/local/lib/python3.7/dist-packages (from scikit-multiflow) (1.3.5)\n",
            "Requirement already satisfied: scipy>=1.0.0 in /usr/local/lib/python3.7/dist-packages (from scikit-multiflow) (1.4.1)\n",
            "Requirement already satisfied: scikit-learn>=0.20 in /usr/local/lib/python3.7/dist-packages (from scikit-multiflow) (1.0.2)\n",
            "Requirement already satisfied: pyparsing!=2.0.4,!=2.1.2,!=2.1.6,>=2.0.1 in /usr/local/lib/python3.7/dist-packages (from matplotlib>=2.0.0->scikit-multiflow) (3.0.9)\n",
            "Requirement already satisfied: python-dateutil>=2.1 in /usr/local/lib/python3.7/dist-packages (from matplotlib>=2.0.0->scikit-multiflow) (2.8.2)\n",
            "Requirement already satisfied: cycler>=0.10 in /usr/local/lib/python3.7/dist-packages (from matplotlib>=2.0.0->scikit-multiflow) (0.11.0)\n",
            "Requirement already satisfied: kiwisolver>=1.0.1 in /usr/local/lib/python3.7/dist-packages (from matplotlib>=2.0.0->scikit-multiflow) (1.4.2)\n",
            "Requirement already satisfied: typing-extensions in /usr/local/lib/python3.7/dist-packages (from kiwisolver>=1.0.1->matplotlib>=2.0.0->scikit-multiflow) (4.2.0)\n",
            "Requirement already satisfied: pytz>=2017.3 in /usr/local/lib/python3.7/dist-packages (from pandas>=0.25.3->scikit-multiflow) (2022.1)\n",
            "Requirement already satisfied: six>=1.5 in /usr/local/lib/python3.7/dist-packages (from python-dateutil>=2.1->matplotlib>=2.0.0->scikit-multiflow) (1.15.0)\n",
            "Requirement already satisfied: joblib>=0.11 in /usr/local/lib/python3.7/dist-packages (from scikit-learn>=0.20->scikit-multiflow) (1.1.0)\n",
            "Requirement already satisfied: threadpoolctl>=2.0.0 in /usr/local/lib/python3.7/dist-packages (from scikit-learn>=0.20->scikit-multiflow) (3.1.0)\n",
            "Installing collected packages: scikit-multiflow\n",
            "Successfully installed scikit-multiflow-0.5.3\n"
          ]
        }
      ]
    },
    {
      "cell_type": "code",
      "metadata": {
        "id": "W1TaBfui-b8c",
        "colab": {
          "resources": {
            "http://localhost:8080/nbextensions/google.colab/files.js": {
              "data": "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",
              "ok": true,
              "headers": [
                [
                  "content-type",
                  "application/javascript"
                ]
              ],
              "status": 200,
              "status_text": ""
            }
          },
          "base_uri": "https://localhost:8080/",
          "height": 73
        },
        "outputId": "926cedcc-4ea6-4f99-9262-ed002ccb2715"
      },
      "source": [
        "#upload do arquivo para gerar base\n",
        "uploaded = files.upload()\n",
        "#Importa o arquivo para o colab, é preciso colocar o nome do arquivo\n",
        "import io\n",
        "df = pd.read_csv(io.BytesIO(uploaded['all_projects_with_dates_new.csv']))"
      ],
      "execution_count": null,
      "outputs": [
        {
          "output_type": "display_data",
          "data": {
            "text/plain": [
              "<IPython.core.display.HTML object>"
            ],
            "text/html": [
              "\n",
              "     <input type=\"file\" id=\"files-1a806b67-f491-4ddd-84ea-e44b6d45ab5a\" name=\"files[]\" multiple disabled\n",
              "        style=\"border:none\" />\n",
              "     <output id=\"result-1a806b67-f491-4ddd-84ea-e44b6d45ab5a\">\n",
              "      Upload widget is only available when the cell has been executed in the\n",
              "      current browser session. Please rerun this cell to enable.\n",
              "      </output>\n",
              "      <script src=\"/nbextensions/google.colab/files.js\"></script> "
            ]
          },
          "metadata": {}
        },
        {
          "output_type": "stream",
          "name": "stdout",
          "text": [
            "Saving all_projects_with_dates_new.csv to all_projects_with_dates_new.csv\n"
          ]
        }
      ]
    },
    {
      "cell_type": "code",
      "metadata": {
        "id": "V72uwEKJ-gZJ",
        "colab": {
          "base_uri": "https://localhost:8080/",
          "height": 53
        },
        "outputId": "f9cbf689-89d7-4869-acd1-6e9d769074de"
      },
      "source": [
        "#gerar base\n",
        "print(df.shape)\n",
        "#Colocar o w. w = numero de dias para confirmar a classe da instancia x86400\n",
        "w = 100 * 86400\n",
        "#remove instancias marcadas com codigos 2 e 3 (se alguma)\n",
        "df2= df.drop(df[(df['code'] == 2) | (df['code'] == 3)].index)\n",
        "#transforma o dataframe em numpy array\n",
        "df2_np = df2.to_numpy()\n",
        "#lista onde ficarão as instancias replicadas\n",
        "mylist = []\n",
        "df2_np\n",
        "\n",
        "for n in range(df2_np.shape[0]):\n",
        "  #se a classe for 0 (posição [n][2])\n",
        "  if(df2_np[n][15]==0):\n",
        "    #Coloca o codigo 0\n",
        "    df2_np[n][19]=0\n",
        "    #cria uma nova instancia copiando a anterior\n",
        "    new_row=np.copy(df2_np[n])\n",
        "    #coloca classe 0\n",
        "    new_row[15]=0\n",
        "    #adiciona w ao timestamp atual\n",
        "    new_row[0]=new_row[16] + w\n",
        "    #coloca o codigo como 1\n",
        "    new_row[19]=1\n",
        "    #adiciona instancia a lista\n",
        "    mylist.append(new_row)\n",
        "  #se a classe for 1 (posição [n][2])\n",
        "  if(df2_np[n][15]==1):\n",
        "    #Coloca o codigo 0\n",
        "    df2_np[n][19]=0\n",
        "    #cria uma nova instancia copiando a anterior\n",
        "    new_row=np.copy(df2_np[n])\n",
        "    #coloca classe 1\n",
        "    new_row[15]=1\n",
        "    #adiciona days_to_fix (posição [17]) ao timestamp atual\n",
        "    new_row[0]=new_row[16] + (new_row[18] * 86400)\n",
        "    #coloca o codigo como 1\n",
        "    new_row[19]=1\n",
        "    #adiciona instancia a lista\n",
        "    mylist.append(new_row)\n",
        "    #se days_to_fix x 86400 (converção para timestamp) for maior do que o tempo w\n",
        "    if(df2_np[n][18] * 86400 > w):\n",
        "      #cria uma nova instancia copiando a anterior\n",
        "      new_row=np.copy(df2_np[n])\n",
        "      #coloca classe 0\n",
        "      new_row[15]=0\n",
        "      #adiciona w ao timestamp atual\n",
        "      new_row[0]=new_row[0] + w\n",
        "      #coloca o codigo como 1\n",
        "      new_row[19]=1\n",
        "      #adiciona instancia a lista\n",
        "      mylist.append(new_row)\n",
        "newInstances = np.array(mylist)\n",
        "\n",
        "#junta as instancias novas as antigas\n",
        "df2_np = np.vstack((df2_np,newInstances))\n",
        "df2_np\n",
        "\n",
        "#gerar dataframe e baixar como csv\n",
        "new_df = pd.DataFrame(\n",
        "    {'author_date_unix_timestamp': df2_np[:, 0],\n",
        "     'fix':  df2_np[:, 1],\n",
        "     'ns':  df2_np[:, 2],\n",
        "     'nd':  df2_np[:, 3],\n",
        "     'nf':  df2_np[:, 4],\n",
        "     'entrophy':  df2_np[:, 5],\n",
        "     'la':  df2_np[:, 6],\n",
        "     'ld':  df2_np[:, 7],\n",
        "     'lt':  df2_np[:, 8],\n",
        "     'ndev':  df2_np[:, 9],\n",
        "     'age':  df2_np[:, 10],\n",
        "     'nuc':  df2_np[:, 11],\n",
        "     'exp':  df2_np[:, 12],\n",
        "     'rexp':  df2_np[:, 13],\n",
        "     'sexp':  df2_np[:, 14],\n",
        "     'contains_bug':  df2_np[:, 15],\n",
        "     'original_timestamp':  df2_np[:, 16],\n",
        "     'repository_name':  df2_np[:, 17],\n",
        "     'days_to_first_fix':  df2_np[:, 18],\n",
        "     'code':  df2_np[:, 19]\n",
        "    })\n",
        "\n",
        "new_df.sort_values(by=['author_date_unix_timestamp'])\n",
        "new_df\n",
        "new_df.to_csv('all_projects_with_dates_replicated.csv')\n",
        "files.download('all_projects_with_dates_replicated.csv')"
      ],
      "execution_count": null,
      "outputs": [
        {
          "output_type": "stream",
          "name": "stdout",
          "text": [
            "(197475, 20)\n"
          ]
        },
        {
          "output_type": "display_data",
          "data": {
            "text/plain": [
              "<IPython.core.display.Javascript object>"
            ],
            "application/javascript": [
              "\n",
              "    async function download(id, filename, size) {\n",
              "      if (!google.colab.kernel.accessAllowed) {\n",
              "        return;\n",
              "      }\n",
              "      const div = document.createElement('div');\n",
              "      const label = document.createElement('label');\n",
              "      label.textContent = `Downloading \"${filename}\": `;\n",
              "      div.appendChild(label);\n",
              "      const progress = document.createElement('progress');\n",
              "      progress.max = size;\n",
              "      div.appendChild(progress);\n",
              "      document.body.appendChild(div);\n",
              "\n",
              "      const buffers = [];\n",
              "      let downloaded = 0;\n",
              "\n",
              "      const channel = await google.colab.kernel.comms.open(id);\n",
              "      // Send a message to notify the kernel that we're ready.\n",
              "      channel.send({})\n",
              "\n",
              "      for await (const message of channel.messages) {\n",
              "        // Send a message to notify the kernel that we're ready.\n",
              "        channel.send({})\n",
              "        if (message.buffers) {\n",
              "          for (const buffer of message.buffers) {\n",
              "            buffers.push(buffer);\n",
              "            downloaded += buffer.byteLength;\n",
              "            progress.value = downloaded;\n",
              "          }\n",
              "        }\n",
              "      }\n",
              "      const blob = new Blob(buffers, {type: 'application/binary'});\n",
              "      const a = document.createElement('a');\n",
              "      a.href = window.URL.createObjectURL(blob);\n",
              "      a.download = filename;\n",
              "      div.appendChild(a);\n",
              "      a.click();\n",
              "      div.remove();\n",
              "    }\n",
              "  "
            ]
          },
          "metadata": {}
        },
        {
          "output_type": "display_data",
          "data": {
            "text/plain": [
              "<IPython.core.display.Javascript object>"
            ],
            "application/javascript": [
              "download(\"download_9856f83e-9090-4d19-9994-9b2a5822b811\", \"all_projects_with_dates_replicated.csv\", 45248150)"
            ]
          },
          "metadata": {}
        }
      ]
    },
    {
      "cell_type": "code",
      "source": [
        "#gerar base\n",
        "print(df.shape)\n",
        "#Colocar o w. w = numero de dias para confirmar a classe da instancia x86400\n",
        "w = 100 * 86400\n",
        "#remove instancias marcadas com codigos 2 e 3 (se alguma)\n",
        "df2= df.drop(df[(df['code'] == 2) | (df['code'] == 3)].index)\n",
        "#transforma o dataframe em numpy array\n",
        "df2_np = df2.to_numpy()\n",
        "#lista onde ficarão as instancias replicadas\n",
        "mylist = []\n",
        "df2_np\n",
        "\n",
        "for n in range(df2_np.shape[0]):\n",
        "  #se a classe for 0 (posição [n][2])\n",
        "  if(df2_np[n][2]==0):\n",
        "    #Coloca o codigo 0\n",
        "    df2_np[n][20]=0\n",
        "    #cria uma nova instancia copiando a anterior\n",
        "    new_row=np.copy(df2_np[n])\n",
        "    #coloca classe 0\n",
        "    new_row[2]=0\n",
        "    #adiciona w ao timestamp atual\n",
        "    new_row[19]=new_row[0] + w\n",
        "    #coloca o codigo como 1\n",
        "    new_row[20]=1\n",
        "    #adiciona instancia a lista\n",
        "    mylist.append(new_row)\n",
        "  #se a classe for 1 (posição [n][2])\n",
        "  if(df2_np[n][2]==1):\n",
        "    #Coloca o codigo 0\n",
        "    df2_np[n][20]=0\n",
        "    #cria uma nova instancia copiando a anterior\n",
        "    new_row=np.copy(df2_np[n])\n",
        "    #coloca classe 1\n",
        "    new_row[2]=1\n",
        "    #adiciona days_to_fix (posição [17]) ao timestamp atual\n",
        "    new_row[19]=new_row[0] + (new_row[17] * 86400)\n",
        "    #coloca o codigo como 1\n",
        "    new_row[20]=1\n",
        "    #adiciona instancia a lista\n",
        "    mylist.append(new_row)\n",
        "    #se days_to_fix x 86400 (converção para timestamp) for maior do que o tempo w\n",
        "    if(df2_np[n][17] * 86400 > w):\n",
        "      #cria uma nova instancia copiando a anterior\n",
        "      new_row=np.copy(df2_np[n])\n",
        "      #coloca classe 0\n",
        "      new_row[2]=0\n",
        "      #adiciona w ao timestamp atual\n",
        "      new_row[19]=new_row[0] + w\n",
        "      #coloca o codigo como 1\n",
        "      new_row[20]=1\n",
        "      #adiciona instancia a lista\n",
        "      mylist.append(new_row)\n",
        "newInstances = np.array(mylist)\n",
        "\n",
        "#junta as instancias novas as antigas\n",
        "df2_np = np.vstack((df2_np,newInstances))\n",
        "df2_np\n",
        "\n",
        "#gerar dataframe e baixar como csv\n",
        "new_df = pd.DataFrame(\n",
        "    {'author_date_unix_timestamp': df2_np[:, 0],\n",
        "     'fix':  df2_np[:, 1],\n",
        "     'contains_bug':  df2_np[:, 2],\n",
        "     'ns':  df2_np[:, 3],\n",
        "     'nd':  df2_np[:, 4],\n",
        "     'nf':  df2_np[:, 5],\n",
        "     'entrophy':  df2_np[:, 6],\n",
        "     'la':  df2_np[:, 7],\n",
        "     'ld':  df2_np[:, 8],\n",
        "     'lt':  df2_np[:, 9],\n",
        "     'ndev':  df2_np[:, 10],\n",
        "     'age':  df2_np[:, 11],\n",
        "     'nuc':  df2_np[:, 12],\n",
        "     'exp':  df2_np[:, 13],\n",
        "     'rexp':  df2_np[:, 14],\n",
        "     'sexp':  df2_np[:, 15],\n",
        "     'Unnamed: 16':  df2_np[:, 16],\n",
        "     'days_to_first_fix':  df2_np[:, 17],\n",
        "     'date':  df2_np[:, 18],\n",
        "     'original_timestamp':  df2_np[:, 19],\n",
        "     'code':  df2_np[:, 20]\n",
        "    })\n",
        "\n",
        "new_df.sort_values(by=['author_date_unix_timestamp'])\n",
        "new_df\n",
        "new_df.to_csv('spring-integration2.csv')\n",
        "files.download('spring-integration2.csv')"
      ],
      "metadata": {
        "id": "ur8eV-zf0Saj"
      },
      "execution_count": null,
      "outputs": []
    }
  ]
}